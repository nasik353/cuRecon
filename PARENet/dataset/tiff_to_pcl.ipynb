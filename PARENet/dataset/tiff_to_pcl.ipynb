{
 "cells": [
  {
   "cell_type": "code",
   "execution_count": 13,
   "id": "611576dd-2654-4afe-a25f-15d85dafb934",
   "metadata": {},
   "outputs": [],
   "source": [
    "import OpenEXR\n",
    "import Imath\n",
    "import cv2\n",
    "import os\n",
    "import h5py\n",
    "import numpy as np\n",
    "from plyfile import PlyData, PlyElement\n"
   ]
  },
  {
   "cell_type": "code",
   "execution_count": 2,
   "id": "9c38be9a",
   "metadata": {},
   "outputs": [],
   "source": [
    "\n",
    "def save_pointcloud_ply(colors, depths, file_name):\n",
    "    points = []\n",
    "    for i in range(depths.shape[0]):\n",
    "        for j in range(depths.shape[1]):\n",
    "            if depths[i, j] > 0:  # Only include points with valid depth\n",
    "                x, y, z = j, i, depths[i, j]\n",
    "                r, g, b = colors[i, j, 0], colors[i, j, 1], colors[i, j, 2]\n",
    "                points.append((x, y, z, r, g, b))\n",
    "    \n",
    "    dtype = [('x', 'f4'), ('y', 'f4'), ('z', 'f4'),\n",
    "             ('red', 'u1'), ('green', 'u1'), ('blue', 'u1')]\n",
    "    vertex_array = np.array(points, dtype=dtype)\n",
    "    el = PlyElement.describe(vertex_array, 'vertex')\n",
    "    PlyData([el], text=True).write(file_name)\n"
   ]
  },
  {
   "cell_type": "code",
   "execution_count": 22,
   "id": "48556762",
   "metadata": {},
   "outputs": [
    {
     "name": "stdout",
     "output_type": "stream",
     "text": [
      "output/4.hdf5\n",
      "output/3.hdf5\n",
      "output/1.hdf5\n",
      "output/5.hdf5\n",
      "output/0.hdf5\n",
      "output/2.hdf5\n"
     ]
    }
   ],
   "source": [
    "hdf5_files = [path for path in os.listdir('output') if path.endswith('.hdf5')]\n",
    "for file_path in hdf5_files:\n",
    "    file_path = os.path.join('output', file_path)\n",
    "    with h5py.File(file_path, 'r') as h5_file:\n",
    "        print(file_path)\n",
    "        depth_data = h5_file['depth'][:]\n",
    "        depth_data[depth_data > 5] = 0\n",
    "        depth_data = (depth_data * 1000)\n",
    "        color_data = h5_file['colors'][:]\n",
    "\n",
    "        save_pointcloud_ply(color_data, depth_data, file_path.replace('hdf5', 'ply'))\n"
   ]
  }
 ],
 "metadata": {
  "kernelspec": {
   "display_name": "Python 3 (ipykernel)",
   "language": "python",
   "name": "python3"
  },
  "language_info": {
   "codemirror_mode": {
    "name": "ipython",
    "version": 3
   },
   "file_extension": ".py",
   "mimetype": "text/x-python",
   "name": "python",
   "nbconvert_exporter": "python",
   "pygments_lexer": "ipython3",
   "version": "3.10.14"
  }
 },
 "nbformat": 4,
 "nbformat_minor": 5
}
